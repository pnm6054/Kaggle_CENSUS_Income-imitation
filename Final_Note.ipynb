{
 "cells": [
  {
   "cell_type": "code",
   "execution_count": 95,
   "metadata": {},
   "outputs": [],
   "source": [
    "import pandas as pd\n",
    "import numpy as np\n",
    "from tqdm import tqdm_notebook"
   ]
  },
  {
   "cell_type": "code",
   "execution_count": 96,
   "metadata": {},
   "outputs": [],
   "source": [
    "from sklearn.preprocessing import StandardScaler, MinMaxScaler, QuantileTransformer, RobustScaler\n",
    "from sklearn.model_selection import train_test_split\n",
    "from sklearn.model_selection import KFold, GridSearchCV, cross_val_score"
   ]
  },
  {
   "cell_type": "code",
   "execution_count": 97,
   "metadata": {},
   "outputs": [],
   "source": [
    "train = pd.read_csv('./data/train.csv')\n",
    "test = pd.read_csv('./data/test.csv')\n",
    "data_all = pd.concat([train.iloc[:, :-1], test])\n",
    "y = train['income']"
   ]
  },
  {
   "cell_type": "markdown",
   "metadata": {},
   "source": [
    "## marital-status labeling"
   ]
  },
  {
   "cell_type": "code",
   "execution_count": 98,
   "metadata": {
    "scrolled": true
   },
   "outputs": [
    {
     "name": "stderr",
     "output_type": "stream",
     "text": [
      "C:\\Users\\bigBro\\Anaconda3\\envs\\deeplearning\\lib\\site-packages\\ipykernel_launcher.py:1: SettingWithCopyWarning: \n",
      "A value is trying to be set on a copy of a slice from a DataFrame\n",
      "\n",
      "See the caveats in the documentation: http://pandas.pydata.org/pandas-docs/stable/indexing.html#indexing-view-versus-copy\n",
      "  \"\"\"Entry point for launching an IPython kernel.\n",
      "C:\\Users\\bigBro\\Anaconda3\\envs\\deeplearning\\lib\\site-packages\\ipykernel_launcher.py:2: SettingWithCopyWarning: \n",
      "A value is trying to be set on a copy of a slice from a DataFrame\n",
      "\n",
      "See the caveats in the documentation: http://pandas.pydata.org/pandas-docs/stable/indexing.html#indexing-view-versus-copy\n",
      "  \n"
     ]
    }
   ],
   "source": [
    "data_all['marital-status'][data_all['marital-status']!=' Married-civ-spouse'] = 0\n",
    "data_all['marital-status'][data_all['marital-status']==' Married-civ-spouse'] = 1\n",
    "data_all['marital-status'] = data_all['marital-status'].astype('int64')"
   ]
  },
  {
   "cell_type": "markdown",
   "metadata": {},
   "source": [
    "## relationship labeling"
   ]
  },
  {
   "cell_type": "code",
   "execution_count": 99,
   "metadata": {
    "scrolled": true
   },
   "outputs": [
    {
     "name": "stderr",
     "output_type": "stream",
     "text": [
      "C:\\Users\\bigBro\\Anaconda3\\envs\\deeplearning\\lib\\site-packages\\ipykernel_launcher.py:1: SettingWithCopyWarning: \n",
      "A value is trying to be set on a copy of a slice from a DataFrame\n",
      "\n",
      "See the caveats in the documentation: http://pandas.pydata.org/pandas-docs/stable/indexing.html#indexing-view-versus-copy\n",
      "  \"\"\"Entry point for launching an IPython kernel.\n",
      "C:\\Users\\bigBro\\Anaconda3\\envs\\deeplearning\\lib\\site-packages\\ipykernel_launcher.py:2: SettingWithCopyWarning: \n",
      "A value is trying to be set on a copy of a slice from a DataFrame\n",
      "\n",
      "See the caveats in the documentation: http://pandas.pydata.org/pandas-docs/stable/indexing.html#indexing-view-versus-copy\n",
      "  \n"
     ]
    }
   ],
   "source": [
    "data_all['relationship'][(data_all['relationship']!=' Husband') & (data_all['relationship']!=' Wife')] = 0\n",
    "data_all['relationship'][(data_all['relationship']==' Husband') | (data_all['relationship']==' Wife')] = 1\n",
    "data_all['relationship'] = data_all['relationship'].astype('int64')"
   ]
  },
  {
   "cell_type": "markdown",
   "metadata": {},
   "source": [
    "## drop un-important column"
   ]
  },
  {
   "cell_type": "code",
   "execution_count": 100,
   "metadata": {},
   "outputs": [],
   "source": [
    "del data_all['education']\n",
    "#del data_all['native-country']\n",
    "#del data_all['workclass']\n",
    "del data_all['no']\n",
    "#del data_all['race']\n",
    "del data_all['fnlwgt']"
   ]
  },
  {
   "cell_type": "markdown",
   "metadata": {},
   "source": [
    "## One-Hot Encoding"
   ]
  },
  {
   "cell_type": "code",
   "execution_count": 101,
   "metadata": {},
   "outputs": [
    {
     "name": "stdout",
     "output_type": "stream",
     "text": [
      "<class 'pandas.core.frame.DataFrame'>\n",
      "Int64Index: 48842 entries, 0 to 19536\n",
      "Data columns (total 80 columns):\n",
      "age                                           48842 non-null int64\n",
      "education-num                                 48842 non-null int64\n",
      "marital-status                                48842 non-null int64\n",
      "relationship                                  48842 non-null int64\n",
      "capital-gain                                  48842 non-null int64\n",
      "capital-loss                                  48842 non-null int64\n",
      "hours-per-week                                48842 non-null int64\n",
      "workclass_ ?                                  48842 non-null uint8\n",
      "workclass_ Federal-gov                        48842 non-null uint8\n",
      "workclass_ Local-gov                          48842 non-null uint8\n",
      "workclass_ Never-worked                       48842 non-null uint8\n",
      "workclass_ Private                            48842 non-null uint8\n",
      "workclass_ Self-emp-inc                       48842 non-null uint8\n",
      "workclass_ Self-emp-not-inc                   48842 non-null uint8\n",
      "workclass_ State-gov                          48842 non-null uint8\n",
      "workclass_ Without-pay                        48842 non-null uint8\n",
      "occupation_ ?                                 48842 non-null uint8\n",
      "occupation_ Adm-clerical                      48842 non-null uint8\n",
      "occupation_ Armed-Forces                      48842 non-null uint8\n",
      "occupation_ Craft-repair                      48842 non-null uint8\n",
      "occupation_ Exec-managerial                   48842 non-null uint8\n",
      "occupation_ Farming-fishing                   48842 non-null uint8\n",
      "occupation_ Handlers-cleaners                 48842 non-null uint8\n",
      "occupation_ Machine-op-inspct                 48842 non-null uint8\n",
      "occupation_ Other-service                     48842 non-null uint8\n",
      "occupation_ Priv-house-serv                   48842 non-null uint8\n",
      "occupation_ Prof-specialty                    48842 non-null uint8\n",
      "occupation_ Protective-serv                   48842 non-null uint8\n",
      "occupation_ Sales                             48842 non-null uint8\n",
      "occupation_ Tech-support                      48842 non-null uint8\n",
      "occupation_ Transport-moving                  48842 non-null uint8\n",
      "race_ Amer-Indian-Eskimo                      48842 non-null uint8\n",
      "race_ Asian-Pac-Islander                      48842 non-null uint8\n",
      "race_ Black                                   48842 non-null uint8\n",
      "race_ Other                                   48842 non-null uint8\n",
      "race_ White                                   48842 non-null uint8\n",
      "sex_ Female                                   48842 non-null uint8\n",
      "sex_ Male                                     48842 non-null uint8\n",
      "native-country_ ?                             48842 non-null uint8\n",
      "native-country_ Cambodia                      48842 non-null uint8\n",
      "native-country_ Canada                        48842 non-null uint8\n",
      "native-country_ China                         48842 non-null uint8\n",
      "native-country_ Columbia                      48842 non-null uint8\n",
      "native-country_ Cuba                          48842 non-null uint8\n",
      "native-country_ Dominican-Republic            48842 non-null uint8\n",
      "native-country_ Ecuador                       48842 non-null uint8\n",
      "native-country_ El-Salvador                   48842 non-null uint8\n",
      "native-country_ England                       48842 non-null uint8\n",
      "native-country_ France                        48842 non-null uint8\n",
      "native-country_ Germany                       48842 non-null uint8\n",
      "native-country_ Greece                        48842 non-null uint8\n",
      "native-country_ Guatemala                     48842 non-null uint8\n",
      "native-country_ Haiti                         48842 non-null uint8\n",
      "native-country_ Holand-Netherlands            48842 non-null uint8\n",
      "native-country_ Honduras                      48842 non-null uint8\n",
      "native-country_ Hong                          48842 non-null uint8\n",
      "native-country_ Hungary                       48842 non-null uint8\n",
      "native-country_ India                         48842 non-null uint8\n",
      "native-country_ Iran                          48842 non-null uint8\n",
      "native-country_ Ireland                       48842 non-null uint8\n",
      "native-country_ Italy                         48842 non-null uint8\n",
      "native-country_ Jamaica                       48842 non-null uint8\n",
      "native-country_ Japan                         48842 non-null uint8\n",
      "native-country_ Laos                          48842 non-null uint8\n",
      "native-country_ Mexico                        48842 non-null uint8\n",
      "native-country_ Nicaragua                     48842 non-null uint8\n",
      "native-country_ Outlying-US(Guam-USVI-etc)    48842 non-null uint8\n",
      "native-country_ Peru                          48842 non-null uint8\n",
      "native-country_ Philippines                   48842 non-null uint8\n",
      "native-country_ Poland                        48842 non-null uint8\n",
      "native-country_ Portugal                      48842 non-null uint8\n",
      "native-country_ Puerto-Rico                   48842 non-null uint8\n",
      "native-country_ Scotland                      48842 non-null uint8\n",
      "native-country_ South                         48842 non-null uint8\n",
      "native-country_ Taiwan                        48842 non-null uint8\n",
      "native-country_ Thailand                      48842 non-null uint8\n",
      "native-country_ Trinadad&Tobago               48842 non-null uint8\n",
      "native-country_ United-States                 48842 non-null uint8\n",
      "native-country_ Vietnam                       48842 non-null uint8\n",
      "native-country_ Yugoslavia                    48842 non-null uint8\n",
      "dtypes: int64(7), uint8(73)\n",
      "memory usage: 6.4 MB\n"
     ]
    }
   ],
   "source": [
    "one_hot_encoding = pd.get_dummies(data_all)\n",
    "one_hot_encoding.info()"
   ]
  },
  {
   "cell_type": "markdown",
   "metadata": {},
   "source": [
    "## Train/Test Data Split"
   ]
  },
  {
   "cell_type": "code",
   "execution_count": 102,
   "metadata": {},
   "outputs": [],
   "source": [
    "X = one_hot_encoding[:len(train)]\n",
    "X_test = one_hot_encoding[len(train):]"
   ]
  },
  {
   "cell_type": "markdown",
   "metadata": {},
   "source": [
    "## Scaling"
   ]
  },
  {
   "cell_type": "code",
   "execution_count": 103,
   "metadata": {},
   "outputs": [
    {
     "data": {
      "text/plain": [
       "MinMaxScaler(copy=True, feature_range=(0, 1))"
      ]
     },
     "execution_count": 103,
     "metadata": {},
     "output_type": "execute_result"
    }
   ],
   "source": [
    "sc = MinMaxScaler()\n",
    "sc.fit(one_hot_encoding)"
   ]
  },
  {
   "cell_type": "code",
   "execution_count": 104,
   "metadata": {},
   "outputs": [],
   "source": [
    "X_tr = sc.transform(X)\n",
    "X_te = sc.transform(X_test)"
   ]
  },
  {
   "cell_type": "markdown",
   "metadata": {},
   "source": [
    "## LightGBM"
   ]
  },
  {
   "cell_type": "code",
   "execution_count": 105,
   "metadata": {},
   "outputs": [],
   "source": [
    "from lightgbm import LGBMClassifier"
   ]
  },
  {
   "cell_type": "code",
   "execution_count": 112,
   "metadata": {
    "scrolled": true
   },
   "outputs": [
    {
     "data": {
      "text/plain": [
       "GridSearchCV(cv=KFold(n_splits=6, random_state=1, shuffle=False),\n",
       "             error_score='raise-deprecating',\n",
       "             estimator=LGBMClassifier(boosting_type='gbdt', class_weight=None,\n",
       "                                      colsample_bytree=1.0,\n",
       "                                      importance_type='split',\n",
       "                                      learning_rate=0.1, max_depth=-1,\n",
       "                                      min_child_samples=20,\n",
       "                                      min_child_weight=0.001,\n",
       "                                      min_split_gain=0.0, n_estimators=100,\n",
       "                                      n_jobs=-1, num_leaves=31, objective=N...\n",
       "                                      subsample=1.0, subsample_for_bin=200000,\n",
       "                                      subsample_freq=0),\n",
       "             iid='warn', n_jobs=-1,\n",
       "             param_grid={'learning_rate': [0.01, 0.15, 0.2],\n",
       "                         'max_depth': [5, 6, 7], 'min_child_samples': [0, 3, 6],\n",
       "                         'min_data_in_leaf': [45, 55],\n",
       "                         'n_estimators': [195, 225],\n",
       "                         'num_leaves': [31, 63, 127],\n",
       "                         'reg_alpha': [0.05, 0.1, 0.15],\n",
       "                         'reg_lambda': [0, 0.1]},\n",
       "             pre_dispatch='2*n_jobs', refit=True, return_train_score=False,\n",
       "             scoring='f1', verbose=0)"
      ]
     },
     "execution_count": 112,
     "metadata": {},
     "output_type": "execute_result"
    }
   ],
   "source": [
    "model_lgbm = LGBMClassifier()\n",
    "param_grid = {\n",
    "    'learning_rate': [0.01, 0.15, 0.20],\n",
    "    'max_depth': [5, 6, 7],\n",
    "    'num_leaves': [31, 63, 127],\n",
    "    'reg_alpha': [0.05 ,0.1, 0.15],\n",
    "    'reg_lambda': [0, 0.1],\n",
    "    'min_child_samples': [0, 3, 6],\n",
    "    'min_data_in_leaf': [45, 55],\n",
    "    'n_estimators':[195, 225]\n",
    "    }\n",
    "cv=KFold(n_splits=6, random_state=1)\n",
    "gcv=GridSearchCV(model_lgbm, param_grid=param_grid, cv=cv, scoring='f1', n_jobs=-1)\n",
    "\n",
    "gcv.fit(X_tr, y)"
   ]
  },
  {
   "cell_type": "code",
   "execution_count": 107,
   "metadata": {
    "scrolled": true
   },
   "outputs": [
    {
     "data": {
      "text/plain": [
       "LGBMClassifier(boosting_type='gbdt', class_weight=None, colsample_bytree=1.0,\n",
       "               importance_type='split', learning_rate=0.15, max_depth=6,\n",
       "               min_child_samples=0, min_child_weight=0.001, min_data_in_leaf=45,\n",
       "               min_split_gain=0.0, n_estimators=195, n_jobs=-1, num_leaves=63,\n",
       "               objective=None, random_state=None, reg_alpha=0.1, reg_lambda=0,\n",
       "               silent=True, subsample=1.0, subsample_for_bin=200000,\n",
       "               subsample_freq=0)"
      ]
     },
     "execution_count": 107,
     "metadata": {},
     "output_type": "execute_result"
    }
   ],
   "source": [
    "model_lgbm = gcv.best_estimator_\n",
    "gcv.best_estimator_"
   ]
  },
  {
   "cell_type": "code",
   "execution_count": 108,
   "metadata": {},
   "outputs": [
    {
     "name": "stderr",
     "output_type": "stream",
     "text": [
      "C:\\Users\\bigBro\\AppData\\Roaming\\Python\\Python37\\site-packages\\sklearn\\model_selection\\_split.py:1978: FutureWarning: The default value of cv will change from 3 to 5 in version 0.22. Specify it explicitly to silence this warning.\n",
      "  warnings.warn(CV_WARNING, FutureWarning)\n"
     ]
    },
    {
     "data": {
      "text/plain": [
       "0.8707046191819453"
      ]
     },
     "execution_count": 108,
     "metadata": {},
     "output_type": "execute_result"
    }
   ],
   "source": [
    "cross_val_score(model_lgbm, X_tr, y).mean()"
   ]
  },
  {
   "cell_type": "markdown",
   "metadata": {},
   "source": [
    "## to_csv"
   ]
  },
  {
   "cell_type": "code",
   "execution_count": 109,
   "metadata": {
    "scrolled": false
   },
   "outputs": [
    {
     "data": {
      "text/plain": [
       "False    15562\n",
       "True      3975\n",
       "Name: income, dtype: int64"
      ]
     },
     "execution_count": 109,
     "metadata": {},
     "output_type": "execute_result"
    }
   ],
   "source": [
    "y_pred = model_lgbm.predict(X_te)\n",
    "y_pred = (y_pred > 0.5)\n",
    "y_pred = pd.DataFrame(y_pred, columns=['income'])\n",
    "y_pred.iloc[:, 0].value_counts()"
   ]
  },
  {
   "cell_type": "code",
   "execution_count": 110,
   "metadata": {},
   "outputs": [],
   "source": [
    "y_pred['income'].replace(True, 1, inplace=True)\n",
    "y_pred['income'].replace(False, 0, inplace=True)\n",
    "y_pred = y_pred.astype('int64')"
   ]
  },
  {
   "cell_type": "code",
   "execution_count": 111,
   "metadata": {},
   "outputs": [],
   "source": [
    "result = pd.concat([pd.DataFrame(test['no'].values, columns=['no']), y_pred], axis=1)\n",
    "result.to_csv('./submission.csv', index=False)"
   ]
  },
  {
   "attachments": {
    "image.png": {
     "image/png": "[encoded data removed]"
    }
   },
   "cell_type": "markdown",
   "metadata": {},
   "source": [
    "## Public Leaderboard Score\n",
    "![image.png](attachment:image.png)"
   ]
  },
  {
   "attachments": {
    "image.png": {
     "image/png": "[encoded data removed]"
    }
   },
   "cell_type": "markdown",
   "metadata": {},
   "source": [
    "## Private Leaderboard Score\n",
    "![image.png](attachment:image.png)"
   ]
  }
 ],
 "metadata": {
  "kernelspec": {
   "display_name": "Python 3",
   "language": "python",
   "name": "python3"
  },
  "language_info": {
   "codemirror_mode": {
    "name": "ipython",
    "version": 3
   },
   "file_extension": ".py",
   "mimetype": "text/x-python",
   "name": "python",
   "nbconvert_exporter": "python",
   "pygments_lexer": "ipython3",
   "version": "3.7.3"
  }
 },
 "nbformat": 4,
 "nbformat_minor": 2
}
